{
 "cells": [
  {
   "cell_type": "code",
   "execution_count": 2,
   "id": "d8f778b6",
   "metadata": {},
   "outputs": [],
   "source": [
    "import tkinter as tk\n",
    "from googletrans import Translator\n"
   ]
  },
  {
   "cell_type": "code",
   "execution_count": null,
   "id": "67ac961a",
   "metadata": {},
   "outputs": [],
   "source": [
    "class LanguageTranslator:\n",
    "    def __init__(self, root):\n",
    "        self.root = root\n",
    "        self.root.title(\"Language Translator\")\n",
    "\n",
    "        self.label = tk.Label(root, text=\"Enter Text:\")\n",
    "        self.label.pack()\n",
    "\n",
    "        self.text_entry = tk.Entry(root, width=40)\n",
    "        self.text_entry.pack()\n",
    "\n",
    "        self.translate_button = tk.Button(root, text=\"Translate\", command=self.translate_text)\n",
    "        self.translate_button.pack()\n",
    "\n",
    "        self.translation_label = tk.Label(root, text=\"Translation:\")\n",
    "        self.translation_label.pack()\n",
    "\n",
    "        self.translated_text = tk.Text(root, height=5, width=40)\n",
    "        self.translated_text.pack()\n",
    "\n",
    "    def translate_text(self):\n",
    "        text_to_translate = self.text_entry.get()\n",
    "        translator = Translator()\n",
    "        translation = translator.translate(text_to_translate, dest='en')\n",
    "        self.translated_text.delete(1.0, tk.END)  # Clear previous content\n",
    "        self.translated_text.insert(tk.END, translation.text)\n",
    "\n",
    "if __name__ == \"__main__\":\n",
    "    root = tk.Tk()\n",
    "    app = LanguageTranslator(root)\n",
    "    root.mainloop()"
   ]
  },
  {
   "cell_type": "code",
   "execution_count": null,
   "id": "2308adc4",
   "metadata": {},
   "outputs": [],
   "source": []
  }
 ],
 "metadata": {
  "kernelspec": {
   "display_name": "Python 3 (ipykernel)",
   "language": "python",
   "name": "python3"
  },
  "language_info": {
   "codemirror_mode": {
    "name": "ipython",
    "version": 3
   },
   "file_extension": ".py",
   "mimetype": "text/x-python",
   "name": "python",
   "nbconvert_exporter": "python",
   "pygments_lexer": "ipython3",
   "version": "3.11.4"
  }
 },
 "nbformat": 4,
 "nbformat_minor": 5
}
